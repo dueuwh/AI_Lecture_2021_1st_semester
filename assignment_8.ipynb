{
  "nbformat": 4,
  "nbformat_minor": 0,
  "metadata": {
    "colab": {
      "provenance": [],
      "collapsed_sections": [],
      "authorship_tag": "ABX9TyNjkhJTpyXfFN5ysCy8nfx2"
    },
    "kernelspec": {
      "name": "python3",
      "display_name": "Python 3"
    },
    "language_info": {
      "name": "python"
    }
  },
  "cells": [
    {
      "cell_type": "markdown",
      "metadata": {
        "id": "IU4jDA7VMsxY"
      },
      "source": [
        "## Assignment_8\n",
        "  - Data 파일을 이용한 Logistic Regression\n",
        "    - data_logistic_regression.csv을 이용해 학습한다\n",
        "      - 8개의 input, 1개의 output\n",
        "$$ [x_{1}, ...x_{8}, y]$$\n",
        "\n",
        "    - Accuracy 75% 이상을 달성한다"
      ]
    },
    {
      "cell_type": "code",
      "metadata": {
        "colab": {
          "base_uri": "https://localhost:8080/"
        },
        "id": "J87IYi40qtg-",
        "outputId": "b9403d1e-1aa3-4916-df93-dbc62be47aa1"
      },
      "source": [
        "import numpy as np\n",
        "import torch\n",
        "import torch.nn as nn\n",
        "import torch.nn.functional as func\n",
        "import torch.optim as opt\n",
        "import io\n",
        "import pandas as pd\n",
        "\n",
        "torch.manual_seed(1)"
      ],
      "execution_count": null,
      "outputs": [
        {
          "output_type": "execute_result",
          "data": {
            "text/plain": [
              "<torch._C.Generator at 0x7f7f72a70cd0>"
            ]
          },
          "metadata": {},
          "execution_count": 1
        }
      ]
    },
    {
      "cell_type": "code",
      "metadata": {
        "colab": {
          "base_uri": "https://localhost:8080/"
        },
        "id": "un3tCGcP2LP5",
        "outputId": "5c471f0f-d7a3-43c7-9944-caf67bd8d20c"
      },
      "source": [
        "from google.colab import drive\n",
        "drive.mount('/content/drive')"
      ],
      "execution_count": null,
      "outputs": [
        {
          "output_type": "stream",
          "name": "stdout",
          "text": [
            "Mounted at /content/drive\n"
          ]
        }
      ]
    },
    {
      "cell_type": "code",
      "metadata": {
        "id": "WgbECvzQ1B5D"
      },
      "source": [
        "fileLocation = '/content/drive/MyDrive/Colab Notebooks/data_logistic_regression.csv'\n",
        "#드라이브에 업로드한 파일 위치"
      ],
      "execution_count": null,
      "outputs": []
    },
    {
      "cell_type": "code",
      "metadata": {
        "colab": {
          "base_uri": "https://localhost:8080/",
          "height": 226
        },
        "id": "Gtrxxbj22yFj",
        "outputId": "781e6bde-b9db-40a6-eb39-bf8730d7ae26"
      },
      "source": [
        "rawData = pd.read_csv(fileLocation)\n",
        "rawData.head()\n",
        "#파일 불러오기"
      ],
      "execution_count": null,
      "outputs": [
        {
          "output_type": "execute_result",
          "data": {
            "text/html": [
              "<div>\n",
              "<style scoped>\n",
              "    .dataframe tbody tr th:only-of-type {\n",
              "        vertical-align: middle;\n",
              "    }\n",
              "\n",
              "    .dataframe tbody tr th {\n",
              "        vertical-align: top;\n",
              "    }\n",
              "\n",
              "    .dataframe thead th {\n",
              "        text-align: right;\n",
              "    }\n",
              "</style>\n",
              "<table border=\"1\" class=\"dataframe\">\n",
              "  <thead>\n",
              "    <tr style=\"text-align: right;\">\n",
              "      <th></th>\n",
              "      <th>-0.294118</th>\n",
              "      <th>0.487437</th>\n",
              "      <th>0.180328</th>\n",
              "      <th>-0.292929</th>\n",
              "      <th>0</th>\n",
              "      <th>0.00149028</th>\n",
              "      <th>-0.53117</th>\n",
              "      <th>-0.0333333</th>\n",
              "      <th>0.1</th>\n",
              "    </tr>\n",
              "  </thead>\n",
              "  <tbody>\n",
              "    <tr>\n",
              "      <th>0</th>\n",
              "      <td>-0.882353</td>\n",
              "      <td>-0.145729</td>\n",
              "      <td>0.081967</td>\n",
              "      <td>-0.414141</td>\n",
              "      <td>0.000000</td>\n",
              "      <td>-0.207153</td>\n",
              "      <td>-0.766866</td>\n",
              "      <td>-0.666667</td>\n",
              "      <td>1</td>\n",
              "    </tr>\n",
              "    <tr>\n",
              "      <th>1</th>\n",
              "      <td>-0.058824</td>\n",
              "      <td>0.839196</td>\n",
              "      <td>0.049180</td>\n",
              "      <td>0.000000</td>\n",
              "      <td>0.000000</td>\n",
              "      <td>-0.305514</td>\n",
              "      <td>-0.492741</td>\n",
              "      <td>-0.633333</td>\n",
              "      <td>0</td>\n",
              "    </tr>\n",
              "    <tr>\n",
              "      <th>2</th>\n",
              "      <td>-0.882353</td>\n",
              "      <td>-0.105528</td>\n",
              "      <td>0.081967</td>\n",
              "      <td>-0.535354</td>\n",
              "      <td>-0.777778</td>\n",
              "      <td>-0.162444</td>\n",
              "      <td>-0.923997</td>\n",
              "      <td>0.000000</td>\n",
              "      <td>1</td>\n",
              "    </tr>\n",
              "    <tr>\n",
              "      <th>3</th>\n",
              "      <td>0.000000</td>\n",
              "      <td>0.376884</td>\n",
              "      <td>-0.344262</td>\n",
              "      <td>-0.292929</td>\n",
              "      <td>-0.602837</td>\n",
              "      <td>0.284650</td>\n",
              "      <td>0.887276</td>\n",
              "      <td>-0.600000</td>\n",
              "      <td>0</td>\n",
              "    </tr>\n",
              "    <tr>\n",
              "      <th>4</th>\n",
              "      <td>-0.411765</td>\n",
              "      <td>0.165829</td>\n",
              "      <td>0.213115</td>\n",
              "      <td>0.000000</td>\n",
              "      <td>0.000000</td>\n",
              "      <td>-0.236960</td>\n",
              "      <td>-0.894962</td>\n",
              "      <td>-0.700000</td>\n",
              "      <td>1</td>\n",
              "    </tr>\n",
              "  </tbody>\n",
              "</table>\n",
              "</div>"
            ],
            "text/plain": [
              "   -0.294118  0.487437  0.180328  ...  -0.53117  -0.0333333  0.1\n",
              "0  -0.882353 -0.145729  0.081967  ... -0.766866   -0.666667    1\n",
              "1  -0.058824  0.839196  0.049180  ... -0.492741   -0.633333    0\n",
              "2  -0.882353 -0.105528  0.081967  ... -0.923997    0.000000    1\n",
              "3   0.000000  0.376884 -0.344262  ...  0.887276   -0.600000    0\n",
              "4  -0.411765  0.165829  0.213115  ... -0.894962   -0.700000    1\n",
              "\n",
              "[5 rows x 9 columns]"
            ]
          },
          "metadata": {},
          "execution_count": 6
        }
      ]
    },
    {
      "cell_type": "code",
      "metadata": {
        "colab": {
          "base_uri": "https://localhost:8080/"
        },
        "id": "xWA673ss3b4A",
        "outputId": "c6cc8470-5571-4a3f-9545-3053fb8a58ac"
      },
      "source": [
        "#feature_data = list(rawData.columns.values)\n",
        "arrayData = rawData.values\n",
        "print(arrayData)\n",
        "print(np.shape(arrayData))\n",
        "print(np.shape(feature_data))\n",
        "#csv파일을 배열로 변환"
      ],
      "execution_count": null,
      "outputs": [
        {
          "output_type": "stream",
          "name": "stdout",
          "text": [
            "[[-0.882353  -0.145729   0.0819672 ... -0.766866  -0.666667   1.       ]\n",
            " [-0.0588235  0.839196   0.0491803 ... -0.492741  -0.633333   0.       ]\n",
            " [-0.882353  -0.105528   0.0819672 ... -0.923997   0.         1.       ]\n",
            " ...\n",
            " [-0.411765   0.21608    0.180328  ... -0.857387  -0.7        1.       ]\n",
            " [-0.882353   0.266332  -0.0163934 ... -0.768574  -0.133333   0.       ]\n",
            " [-0.882353  -0.0653266  0.147541  ... -0.797609  -0.933333   1.       ]]\n",
            "(758, 9)\n",
            "(9,)\n"
          ]
        }
      ]
    },
    {
      "cell_type": "code",
      "metadata": {
        "colab": {
          "base_uri": "https://localhost:8080/"
        },
        "id": "GTeh4BFQB6R3",
        "outputId": "0119353a-0b8e-4acf-8bbc-3666ac396fa9"
      },
      "source": [
        "xData = arrayData[0 :, 0:8]\n",
        "\n",
        "yData = arrayData[0 :, 8]\n",
        "\n",
        "print(np.shape(xData))\n",
        "print(np.shape(yData))\n",
        "print(xData)\n",
        "#xData, yData를 선언"
      ],
      "execution_count": null,
      "outputs": [
        {
          "output_type": "stream",
          "name": "stdout",
          "text": [
            "(758, 8)\n",
            "(758,)\n",
            "[[-0.882353  -0.145729   0.0819672 ... -0.207153  -0.766866  -0.666667 ]\n",
            " [-0.0588235  0.839196   0.0491803 ... -0.305514  -0.492741  -0.633333 ]\n",
            " [-0.882353  -0.105528   0.0819672 ... -0.162444  -0.923997   0.       ]\n",
            " ...\n",
            " [-0.411765   0.21608    0.180328  ... -0.219076  -0.857387  -0.7      ]\n",
            " [-0.882353   0.266332  -0.0163934 ... -0.102832  -0.768574  -0.133333 ]\n",
            " [-0.882353  -0.0653266  0.147541  ... -0.0938897 -0.797609  -0.933333 ]]\n"
          ]
        }
      ]
    },
    {
      "cell_type": "code",
      "metadata": {
        "colab": {
          "base_uri": "https://localhost:8080/"
        },
        "id": "bZDiSbTkHYQe",
        "outputId": "28045638-9e6c-4e25-e1fc-e9cd2872216a"
      },
      "source": [
        "xData_T = torch.Tensor(xData)\n",
        "yData_T = torch.Tensor(yData)\n",
        "yData_T_758_1 = torch.reshape(yData_T,(758,1))\n",
        "print(xData_T)\n",
        "print(np.shape(xData_T))\n",
        "print(np.shape(yData_T))\n",
        "print(np.shape(yData_T_758_1))\n",
        "#numpy를 tensor로 변환 및 yData_T의 shape을 [758,1]로 변경 -> 다다음 코드의 Y_ANS가 [758,1] 형태이기 때문."
      ],
      "execution_count": null,
      "outputs": [
        {
          "output_type": "stream",
          "name": "stdout",
          "text": [
            "tensor([[-0.8824, -0.1457,  0.0820,  ..., -0.2072, -0.7669, -0.6667],\n",
            "        [-0.0588,  0.8392,  0.0492,  ..., -0.3055, -0.4927, -0.6333],\n",
            "        [-0.8824, -0.1055,  0.0820,  ..., -0.1624, -0.9240,  0.0000],\n",
            "        ...,\n",
            "        [-0.4118,  0.2161,  0.1803,  ..., -0.2191, -0.8574, -0.7000],\n",
            "        [-0.8824,  0.2663, -0.0164,  ..., -0.1028, -0.7686, -0.1333],\n",
            "        [-0.8824, -0.0653,  0.1475,  ..., -0.0939, -0.7976, -0.9333]])\n",
            "torch.Size([758, 8])\n",
            "torch.Size([758])\n",
            "torch.Size([758, 1])\n"
          ]
        }
      ]
    },
    {
      "cell_type": "code",
      "metadata": {
        "id": "EHQzIwq5B8te"
      },
      "source": [
        "class LogisticModel(nn.Module):\n",
        "\n",
        "    def __init__(self, num_inputs, num_outputs):\n",
        "        super().__init__()\n",
        "        self.linear = nn.Linear(num_inputs, num_outputs)\n",
        "        self.sigmoid = nn.Sigmoid()\n",
        "\n",
        "    def forward(self, x):\n",
        "        return self.sigmoid(self.linear(x))\n",
        "\n",
        "Model = LogisticModel(8,1)"
      ],
      "execution_count": null,
      "outputs": []
    },
    {
      "cell_type": "code",
      "metadata": {
        "colab": {
          "base_uri": "https://localhost:8080/"
        },
        "id": "HclVwoh3DD0U",
        "outputId": "83d50a30-bc28-414c-f268-b00c2a5b68e2"
      },
      "source": [
        "optimizer = opt.SGD(Model.parameters(), lr=1)\n",
        "\n",
        "for epoch in range(100):\n",
        "\n",
        "  Y_ANS = Model(xData_T)\n",
        "  cost = func.binary_cross_entropy(Y_ANS, yData_T_758_1)\n",
        "\n",
        "  optimizer.zero_grad()\n",
        "  cost.backward()\n",
        "  optimizer.step()\n",
        "\n",
        "  if epoch % 10 == 9:\n",
        "    prediction = Y_ANS >= torch.FloatTensor([0.5])\n",
        "    correct_prediction = prediction.float() == yData_T_758_1\n",
        "    accuracy = correct_prediction.sum().item() / len(correct_prediction)\n",
        "    print('Epoch {:4d}/{} Cost: {:.6f} Accuracy {:2.2f}%'.format(\n",
        "            epoch, 100, cost.item(), accuracy * 100,\n",
        "    ))"
      ],
      "execution_count": null,
      "outputs": [
        {
          "output_type": "stream",
          "name": "stdout",
          "text": [
            "Epoch    9/100 Cost: 0.581020 Accuracy 65.96%\n",
            "Epoch   19/100 Cost: 0.543379 Accuracy 72.03%\n",
            "Epoch   29/100 Cost: 0.521691 Accuracy 75.73%\n",
            "Epoch   39/100 Cost: 0.508175 Accuracy 76.52%\n",
            "Epoch   49/100 Cost: 0.499219 Accuracy 77.44%\n",
            "Epoch   59/100 Cost: 0.493004 Accuracy 77.04%\n",
            "Epoch   69/100 Cost: 0.488537 Accuracy 76.91%\n",
            "Epoch   79/100 Cost: 0.485239 Accuracy 76.65%\n",
            "Epoch   89/100 Cost: 0.482750 Accuracy 76.52%\n",
            "Epoch   99/100 Cost: 0.480837 Accuracy 76.65%\n"
          ]
        }
      ]
    },
    {
      "cell_type": "code",
      "metadata": {
        "id": "aYaLS3lKDwB6"
      },
      "source": [],
      "execution_count": null,
      "outputs": []
    }
  ]
}