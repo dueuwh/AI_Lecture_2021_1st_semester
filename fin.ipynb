{
  "nbformat": 4,
  "nbformat_minor": 0,
  "metadata": {
    "colab": {
      "provenance": [],
      "authorship_tag": "ABX9TyOaetsztVDmlUiOcVPzzJoQ"
    },
    "kernelspec": {
      "name": "python3",
      "display_name": "Python 3"
    },
    "language_info": {
      "name": "python"
    }
  },
  "cells": [
    {
      "cell_type": "code",
      "execution_count": null,
      "metadata": {
        "colab": {
          "base_uri": "https://localhost:8080/"
        },
        "id": "_BD-B_Rr0vf5",
        "outputId": "f143ed5a-f04c-402f-cbf1-c95ce3d881fd"
      },
      "outputs": [
        {
          "output_type": "stream",
          "name": "stdout",
          "text": [
            "Drive already mounted at /content/drive; to attempt to forcibly remount, call drive.mount(\"/content/drive\", force_remount=True).\n",
            "cpu\n"
          ]
        }
      ],
      "source": [
        "import os\n",
        "import torch\n",
        "import torch.nn as nn\n",
        "from torchtext.legacy import data, datasets \n",
        "from google.colab import drive\n",
        "drive.mount('/content/drive')\n",
        "\n",
        "device = 'cuda' if torch.cuda.is_available() else 'cpu'\n",
        "print(device)\n",
        "\n",
        "torch.manual_seed(777)\n",
        "if device == 'cuda':\n",
        "    torch.cuda.manual_seed_all(777)\n",
        "\n",
        "batch_size = 20\n",
        "learning_rate = 0.001"
      ]
    },
    {
      "cell_type": "code",
      "source": [
        "TEXT = data.Field(sequential=True, batch_first=True, lower=True)\n",
        "LABEL = data.Field(sequential=False, batch_first=True)\n",
        "#MORM = data.Field(sequential=False, batch_first=True)\n",
        "trainset, validset, testset = datasets.SST.splits(TEXT, LABEL)"
      ],
      "metadata": {
        "id": "rUEHa-401aYT"
      },
      "execution_count": null,
      "outputs": []
    },
    {
      "cell_type": "code",
      "source": [
        "TEXT.build_vocab(trainset, min_freq=5)\n",
        "LABEL.build_vocab(trainset)"
      ],
      "metadata": {
        "id": "cXkdeS6u1gip"
      },
      "execution_count": null,
      "outputs": []
    },
    {
      "cell_type": "code",
      "source": [
        "train_iter, valid_iter, test_iter = data.BucketIterator.splits(\n",
        "    (trainset, validset, testset), batch_size = batch_size, shuffle = True, repeat = False)"
      ],
      "metadata": {
        "id": "EIUVNujN336y"
      },
      "execution_count": null,
      "outputs": []
    },
    {
      "cell_type": "code",
      "source": [
        "vocab_size = len(TEXT.vocab)\n",
        "n_classes = 5 # very negative, negative, neutral, positive, very positive 5개"
      ],
      "metadata": {
        "id": "KQsS-O6g4V0C"
      },
      "execution_count": null,
      "outputs": []
    },
    {
      "cell_type": "code",
      "source": [
        "print(\"[TrainSet]: %d [VallidSet]: %d [TestSet]: %d [Vocab]: %d [Classes] %d\"\n",
        "      % (len(trainset),len(validset), len(testset), vocab_size, n_classes))"
      ],
      "metadata": {
        "colab": {
          "base_uri": "https://localhost:8080/"
        },
        "id": "qF3POPzw46sq",
        "outputId": "473569e4-2fec-426e-b074-50650c59f380"
      },
      "execution_count": null,
      "outputs": [
        {
          "output_type": "stream",
          "name": "stdout",
          "text": [
            "[TrainSet]: 8544 [VallidSet]: 1101 [TestSet]: 2210 [Vocab]: 3428 [Classes] 5\n"
          ]
        }
      ]
    },
    {
      "cell_type": "code",
      "source": [
        "class BasicGRU(nn.Module):\n",
        "    def __init__(self, n_layers, hidden_dim, n_vocab, embed_dim, n_classes, dropout_p=0.2):\n",
        "        super(BasicGRU, self).__init__()\n",
        "        self.n_layers = n_layers\n",
        "\n",
        "        self.embed = nn.Embedding(n_vocab, embed_dim)\n",
        "\n",
        "        self.hidden_dim = hidden_dim\n",
        "        self.dropout = nn.Dropout(dropout_p)\n",
        "\n",
        "        self.gru = nn.GRU(embed_dim, self.hidden_dim,\n",
        "                          num_layers=self.n_layers,\n",
        "                          batch_first=True)\n",
        "        \n",
        "        self.out = nn.Linear(self.hidden_dim, n_classes)\n",
        "\n",
        "    def forward(self, x):\n",
        "        \n",
        "        x = self.embed(x)\n",
        "        x, _ = self.gru(x)\n",
        "\n",
        "\n",
        "        h_t = x[:,-1,:]\n",
        "\n",
        "        self.dropout(h_t)\n",
        "\n",
        "        out = self.out(h_t)  # [b, h] -> [b, o]\n",
        "        return out"
      ],
      "metadata": {
        "id": "-vAmwlnM5GR0"
      },
      "execution_count": null,
      "outputs": []
    },
    {
      "cell_type": "code",
      "source": [
        "model = BasicGRU(1, 256, vocab_size, 128, n_classes, 0.5).to(device)"
      ],
      "metadata": {
        "id": "f8_6ig-x50JR"
      },
      "execution_count": null,
      "outputs": []
    },
    {
      "cell_type": "code",
      "source": [
        "while 1:\n",
        "  criterion = torch.nn.CrossEntropyLoss().to(device)    # Softmax\n",
        "  optimizer = torch.optim.Adam(model.parameters(), lr=learning_rate)\n",
        "  epoch = 0\n",
        "  accuracy_old = 0\n",
        "  accuracy_new = 0\n",
        "  accuracy_dif = 0\n",
        "  accuracy_old = accuracy_new\n",
        "\n",
        "  for batch in train_iter:\n",
        "    X, Y = batch.text.to(device), batch.label.to(device)\n",
        "    Y.data.sub_(1)\n",
        "    optimizer.zero_grad()\n",
        "    hypothesis = model(X)\n",
        "    cost = criterion(hypothesis, Y)\n",
        "    cost.backward()\n",
        "    optimizer.step()\n",
        "  \n",
        "  model.eval()\n",
        "\n",
        "  with torch.no_grad():\n",
        "    for batch in valid_iter:\n",
        "      X_test, Y_test = batch.text.to(device), batch.label.to(device)\n",
        "      prediction = model(X_test)\n",
        "      correct_prediction = torch.argmax(prediction, 1) == Y_test\n",
        "      accuracy = correct_prediction.float().mean()\n",
        "      print(\"Accuracy: \", accuracy.item())\n",
        "      accuracy_new = accuracy\n",
        "  batch_size += 1\n",
        "  learning_rate += 0.001\n",
        "\n",
        "  accuracy_dif = accuracy_new-accuracy_old\n",
        "  model.train()\n",
        "  epoch += 1\n",
        "  if (accuracy_dif<0.0001): \n",
        "    endstr = \" 2 epoch 동안 accuracy 증가가 없어 {} epoch 학습 후 종료합니다.\".format(epoch)\n",
        "    print(endstr)\n",
        "    break\n",
        "\n",
        "\n",
        "print('Learning Finished!')\n",
        "torch.save(model.state_dict(), '/content/drive/MyDrive/2017732054_남유상_fin_model.pt')"
      ],
      "metadata": {
        "colab": {
          "base_uri": "https://localhost:8080/"
        },
        "id": "zpvsBMNL6KRB",
        "outputId": "f7f77cf9-0a43-4715-8cc3-ec9e120efeb6"
      },
      "execution_count": null,
      "outputs": [
        {
          "output_type": "stream",
          "name": "stdout",
          "text": [
            "Accuracy:  0.0\n",
            "Accuracy:  0.05000000074505806\n",
            "Accuracy:  0.0\n",
            "Accuracy:  0.15000000596046448\n",
            "Accuracy:  0.05000000074505806\n",
            "Accuracy:  0.15000000596046448\n",
            "Accuracy:  0.20000000298023224\n",
            "Accuracy:  0.05000000074505806\n",
            "Accuracy:  0.30000001192092896\n",
            "Accuracy:  0.0\n",
            "Accuracy:  0.10000000149011612\n",
            "Accuracy:  0.10000000149011612\n",
            "Accuracy:  0.15000000596046448\n",
            "Accuracy:  0.05000000074505806\n",
            "Accuracy:  0.10000000149011612\n",
            "Accuracy:  0.0\n",
            "Accuracy:  0.20000000298023224\n",
            "Accuracy:  0.10000000149011612\n",
            "Accuracy:  0.25\n",
            "Accuracy:  0.0\n",
            "Accuracy:  0.15000000596046448\n",
            "Accuracy:  0.3499999940395355\n",
            "Accuracy:  0.10000000149011612\n",
            "Accuracy:  0.10000000149011612\n",
            "Accuracy:  0.05000000074505806\n",
            "Accuracy:  0.05000000074505806\n",
            "Accuracy:  0.05000000074505806\n",
            "Accuracy:  0.20000000298023224\n",
            "Accuracy:  0.05000000074505806\n",
            "Accuracy:  0.0\n",
            "Accuracy:  0.15000000596046448\n",
            "Accuracy:  0.10000000149011612\n",
            "Accuracy:  0.25\n",
            "Accuracy:  0.0\n",
            "Accuracy:  0.15000000596046448\n",
            "Accuracy:  0.05000000074505806\n",
            "Accuracy:  0.30000001192092896\n",
            "Accuracy:  0.15000000596046448\n",
            "Accuracy:  0.10000000149011612\n",
            "Accuracy:  0.05000000074505806\n",
            "Accuracy:  0.05000000074505806\n",
            "Accuracy:  0.20000000298023224\n",
            "Accuracy:  0.10000000149011612\n",
            "Accuracy:  0.25\n",
            "Accuracy:  0.05000000074505806\n",
            "Accuracy:  0.10000000149011612\n",
            "Accuracy:  0.15000000596046448\n",
            "Accuracy:  0.3499999940395355\n",
            "Accuracy:  0.10000000149011612\n",
            "Accuracy:  0.15000000596046448\n",
            "Accuracy:  0.10000000149011612\n",
            "Accuracy:  0.10000000149011612\n",
            "Accuracy:  0.10000000149011612\n",
            "Accuracy:  0.10000000149011612\n",
            "Accuracy:  0.05000000074505806\n",
            "Accuracy:  0.0\n",
            " 2 epoch 동안 accuracy 증가가 없어 1 epoch 학습 후 종료합니다.\n",
            "Learning Finished!\n"
          ]
        }
      ]
    },
    {
      "cell_type": "code",
      "source": [],
      "metadata": {
        "id": "POTjVvgXBbB0"
      },
      "execution_count": null,
      "outputs": []
    }
  ]
}