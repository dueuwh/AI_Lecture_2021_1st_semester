{
  "nbformat": 4,
  "nbformat_minor": 0,
  "metadata": {
    "colab": {
      "provenance": [],
      "collapsed_sections": [],
      "authorship_tag": "ABX9TyN5E++O5TklVM0YRBQ7QaSt"
    },
    "kernelspec": {
      "name": "python3",
      "display_name": "Python 3"
    },
    "language_info": {
      "name": "python"
    }
  },
  "cells": [
    {
      "cell_type": "markdown",
      "metadata": {
        "id": "Hfg4WS4J8jiA"
      },
      "source": [
        "##**4 실습 (Assignment 3)**\n",
        "\n",
        "- 행렬 방정식 풀기\n",
        "  - 다음 행렬 방정식을 'Pseudo inverse matrix'를 이용해 풀어보자\n",
        "  - $A^{T}A$의 역행렬이 존재한다고 가정\n",
        "  \\\n",
        "  \\\n",
        "$$Ax=B$$\n",
        "$$A =\\left[\\begin{array}{rr} \n",
        "0&1\\\\\n",
        "1&1\\\\\n",
        "2&1\\\\\n",
        "3&1\n",
        "\\end{array}\\right]$$\n",
        "$$B =\\left[\\begin{array}{r} \n",
        "-1\\\\\n",
        "0.2\\\\\n",
        "0.9\\\\\n",
        "2.1\n",
        "\\end{array}\\right]$$"
      ]
    },
    {
      "cell_type": "code",
      "metadata": {
        "colab": {
          "base_uri": "https://localhost:8080/"
        },
        "id": "a5_JSulp8z29",
        "outputId": "7c92f3c0-2def-4ca6-c83b-0a2c8fbf4e8c"
      },
      "source": [
        "import numpy as np\n",
        "import numpy.linalg as lin\n",
        "\n",
        "matA = np.array([[0,1],[1,1],[2,1],[3,1]])\n",
        "matB = np.array([-1,0.2,0.9,2.1])\n",
        "\n",
        "inv_matA = lin.pinv(matA)\n",
        "#print(inv_matA)\n",
        "\n",
        "print(np.matmul(inv_matA, matB))"
      ],
      "execution_count": null,
      "outputs": [
        {
          "output_type": "stream",
          "name": "stdout",
          "text": [
            "[ 1.   -0.95]\n"
          ]
        }
      ]
    },
    {
      "cell_type": "markdown",
      "metadata": {
        "id": "QCXsFFz_EKmD"
      },
      "source": [
        "- 2x2 그래프 그리기\n",
        "  - $ y = x $\n",
        "  - $ y = x^2 $\n",
        "  - $ y = sin(x) $\n",
        "  - $ y = cos(x) $"
      ]
    },
    {
      "cell_type": "code",
      "metadata": {
        "colab": {
          "base_uri": "https://localhost:8080/",
          "height": 251
        },
        "id": "tWNQcX3HFE7r",
        "outputId": "3344cae2-34e0-42a0-9072-266c5414b548"
      },
      "source": [
        "import numpy as np\n",
        "import matplotlib.pyplot as plt\n",
        "\n",
        "left = 0.4\n",
        "bottom = 0.4\n",
        "right = 1.0\n",
        "top = 1.0\n",
        "wspace = 1.0\n",
        "hspace = 1.0\n",
        "plt.subplots_adjust(left, bottom, right, top, wspace, hspace)\n",
        "\n",
        "plt.subplot(2,2,1)\n",
        "x = np.arange(0, 4 * np.pi, 0.1)\n",
        "y_x = x\n",
        "plt.plot(x, y_x)\n",
        "plt.title('y = x')\n",
        "plt.xlabel('x axis')\n",
        "plt.ylabel('y axis')\n",
        "\n",
        "plt.subplot(2,2,2)\n",
        "#x_x2 = np.arange(0, 4 * np.pi, 0.1)\n",
        "y_x2 = x * x\n",
        "plt.plot(x, y_x2)\n",
        "plt.title('y = x^2')\n",
        "plt.xlabel('x axis')\n",
        "plt.ylabel('y axis')\n",
        "\n",
        "plt.subplot(2,2,3)\n",
        "#x_xsin = np.arange(0, 4 * np.pi, 0.1)\n",
        "y_xsin = np.sin(x)\n",
        "plt.plot(x, y_xsin)\n",
        "plt.title('y = sin(x)')\n",
        "plt.xlabel('x axis')\n",
        "plt.ylabel('y axis')\n",
        "\n",
        "plt.subplot(2,2,4)\n",
        "#x_xcos = np.arange(0, 4 * np.pi, 0.1)\n",
        "y_xcos = np.cos(x)\n",
        "plt.plot(x, y_xcos)\n",
        "plt.title('y = cos(x)')\n",
        "plt.xlabel('x axis')\n",
        "plt.ylabel('y axis')\n",
        "\n",
        "plt.show()"
      ],
      "execution_count": null,
      "outputs": [
        {
          "output_type": "display_data",
          "data": {
            "image/png": "[encoded data removed]",
            "text/plain": [
              "<Figure size 432x288 with 4 Axes>"
            ]
          },
          "metadata": {
            "needs_background": "light"
          }
        }
      ]
    }
  ]
}