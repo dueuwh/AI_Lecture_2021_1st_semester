{
  "nbformat": 4,
  "nbformat_minor": 0,
  "metadata": {
    "colab": {
      "provenance": [],
      "collapsed_sections": [],
      "authorship_tag": "ABX9TyM1yALnlp8zCM1SSDCJ90C1"
    },
    "kernelspec": {
      "name": "python3",
      "display_name": "Python 3"
    },
    "language_info": {
      "name": "python"
    }
  },
  "cells": [
    {
      "cell_type": "markdown",
      "metadata": {
        "id": "NmKWUDIjvtLO"
      },
      "source": [
        "## **CNN Assignmen**\n",
        "\n",
        "### **다음과 같은 CNN 모델을 작성해보자**\n",
        "\n",
        "  - Input\n",
        "    * Input type: torch.Tensor\n",
        "    * Input shape: (?, 1, 28, 28)\n",
        "      + 여러장의, 흑백, 28x28 size의 이미지라고 가정하자\n",
        "  - Layers\n",
        "      * Layer 1\n",
        "        + Conv2d >> C: 32, Kernel size (필터 크기): 3, Stride: 1, Padding: 1\n",
        "        + ReLU\n",
        "        + MaxPool >> Kernel size: 2, Stride: 2\n",
        "        + 입-출력 (?, 1, 28, 28) >> (?, 32, 14, 14)\n",
        "      * Layer 2\n",
        "        + Conv2d >> C: 64, Kernel size (필터 크기):3, Stride: 1, Padding: 1\n",
        "        + ReLU\n",
        "        + MaxPool >> Kernel size: 2, Stride: 2\n",
        "        + 입-출력 (?, 32, 14, 14) >> (?, 64, 7, 7)\n",
        "      * Layer 3\n",
        "        + Conv2d >> C: 128, Kernel size (필터 크기): 3, Stride: 1, Padding: 1\n",
        "        + ReLU\n",
        "        + MaxPool >> Kernel size:2, Stirde: 2, Padding: 1\n",
        "        + 입-출력 (?, 64, 7, 7) >> (?, 128, 4, 4)\n",
        "      * Layer 4\n",
        "        + Linear >> input: 4x4x128 output: 625\n",
        "        + ReLU\n",
        "        + Dropout\n",
        "        + 입-출력 (4x4x128) >> (625)\n",
        "      * Layer5\n",
        "        + Linear >> input: 625 output: 10\n",
        "        + Softmax (pytorch의 Cross Entropy Loss 함수를 사용하는 것을 감안한다)\n",
        "\n",
        "    "
      ]
    },
    {
      "cell_type": "code",
      "metadata": {
        "id": "8ODtvRIOvrz0"
      },
      "source": [
        "import torch\n",
        "import torchvision.datasets as dsets\n",
        "import torchvision.transforms as transforms\n",
        "import torch.nn.init\n",
        "\n",
        "device = 'cuda' if torch.cuda.is_available() else 'cpu'\n",
        "\n",
        "torch.manual_seed(777)\n",
        "if device == 'cuda':\n",
        "    torch.cuda.manual_seed_all(777)"
      ],
      "execution_count": null,
      "outputs": []
    },
    {
      "cell_type": "code",
      "metadata": {
        "id": "JVszv-s-fjgL"
      },
      "source": [
        "class CNN(torch.nn.Module):\n",
        "\n",
        "#CNN 구성\n",
        "  def __init__(self):\n",
        "    super(CNN, self).__init__()\n",
        "\n",
        "    self.layer1 = torch.nn.Sequential(\n",
        "      torch.nn.Conv2d(?, 32, kernel_size=3, stride=1, padding=1),\n",
        "      torch.nn.ReLU(),\n",
        "      torch.nn.MaxPool2d(kernel_size=2, stride=2)\n",
        "    )\n",
        "\n",
        "    self.layer2 = torch.nn.Sequential(\n",
        "      torch.nn.Conv2d(32, 64, kernel_size=3, stride=1, padding=1),\n",
        "      torch.nn.ReLU(),\n",
        "      torch.nn.MaxPool2d(kernel_size=2, stride=2)\n",
        "    )\n",
        "\n",
        "    self.layer3 = torch.nn.Sequential(\n",
        "      torch.nn.Conv2d(64, 128, kernel_size=3, stride=1, padding=1),\n",
        "      torch.nn.ReLU(),\n",
        "      torch.nn.MaxPool2d(kernel_size=2, stride=2, padding=1)\n",
        "    )\n",
        "\n",
        "    self.layer4 = torch.nn.Sequential(\n",
        "      torch.nn.Linear(128*4*4, 625, bias=True),\n",
        "      torch.nn.ReLU(),\n",
        "      torch.nnDropout(p=0.5) # p = 임의의 초기 drop 확률\n",
        "    )\n",
        "\n",
        "    self.layer5 = torch.nn.Linear(625, 10, bias=True)\n",
        "    torch.nn.init.xavier_uniform_(self.layer5.weight)\n",
        "\n",
        "# CNN을 실행할 함수\n",
        "  def forward(self, x):\n",
        "    ANS = self.layer1(x)\n",
        "    ANS = self.layer2(ANS)\n",
        "    ANS = self.lyaer3(ANS)\n",
        "    ANS = self.layer4(ANS)\n",
        "    ANS = out.view(out.size(0), -1) # layer5를 위해 펼쳐준다\n",
        "    ANS = self.layer5(ANS)\n",
        "    return ANS\n",
        "\n"
      ],
      "execution_count": null,
      "outputs": []
    }
  ]
}